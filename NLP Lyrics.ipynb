{
 "cells": [
  {
   "cell_type": "code",
   "execution_count": 1,
   "id": "0d7971fa",
   "metadata": {},
   "outputs": [
    {
     "name": "stderr",
     "output_type": "stream",
     "text": [
      "[nltk_data] Downloading package stopwords to\n",
      "[nltk_data]     C:\\Users\\ines2\\AppData\\Roaming\\nltk_data...\n",
      "[nltk_data]   Package stopwords is already up-to-date!\n",
      "[nltk_data] Downloading package punkt to\n",
      "[nltk_data]     C:\\Users\\ines2\\AppData\\Roaming\\nltk_data...\n",
      "[nltk_data]   Package punkt is already up-to-date!\n"
     ]
    },
    {
     "data": {
      "text/plain": [
       "True"
      ]
     },
     "execution_count": 1,
     "metadata": {},
     "output_type": "execute_result"
    }
   ],
   "source": [
    "from nltk.probability import FreqDist\n",
    "from nltk.tokenize import RegexpTokenizer\n",
    "from nltk.tokenize import word_tokenize\n",
    "from nltk.corpus import stopwords\n",
    "import heapq\n",
    "import nltk.data\n",
    "import csv\n",
    "import numpy as np\n",
    "import pandas as pd\n",
    "import math\n",
    "nltk.download('stopwords')\n",
    "nltk.download('punkt')\n",
    "\n"
   ]
  },
  {
   "cell_type": "code",
   "execution_count": 2,
   "id": "d8c4ef0d",
   "metadata": {},
   "outputs": [
    {
     "name": "stdout",
     "output_type": "stream",
     "text": [
      "               Song Title                                          Artist  \\\n",
      "0           Feel So Close                                   Calvin Harris   \n",
      "1       Turn Up the Music                                     Chris Brown   \n",
      "2    Club Can't Handle Me                          Flo Rida, David Guetta   \n",
      "3           Rain in Ibiza  Felix Jaehn, The Stickmen Project, Calum Scott   \n",
      "4                Believer                                 Imagine Dragons   \n",
      "..                    ...                                             ...   \n",
      "993                   NaN                                             NaN   \n",
      "994                   NaN                                             NaN   \n",
      "995                   NaN                                             NaN   \n",
      "996                   NaN                                             NaN   \n",
      "997                   NaN                                             NaN   \n",
      "\n",
      "     Lyrics    bpm  Push myself score  Have fun score  Stress relief score  \\\n",
      "0       NaN  128.0                NaN             NaN                  NaN   \n",
      "1       NaN  130.0                NaN             NaN                  NaN   \n",
      "2       NaN  128.0                NaN             NaN                  NaN   \n",
      "3       NaN  124.0                NaN             NaN                  NaN   \n",
      "4       NaN  125.0                NaN             NaN                  NaN   \n",
      "..      ...    ...                ...             ...                  ...   \n",
      "993     NaN    NaN                NaN             NaN                  NaN   \n",
      "994     NaN    NaN                NaN             NaN                  NaN   \n",
      "995     NaN    NaN                NaN             NaN                  NaN   \n",
      "996     NaN    NaN                NaN             NaN                  NaN   \n",
      "997     NaN    NaN                NaN             NaN                  NaN   \n",
      "\n",
      "     Relax / focus score  Get motivated score  \\\n",
      "0                    NaN                  NaN   \n",
      "1                    NaN                  NaN   \n",
      "2                    NaN                  NaN   \n",
      "3                    NaN                  NaN   \n",
      "4                    NaN                  NaN   \n",
      "..                   ...                  ...   \n",
      "993                  NaN                  NaN   \n",
      "994                  NaN                  NaN   \n",
      "995                  NaN                  NaN   \n",
      "996                  NaN                  NaN   \n",
      "997                  NaN                  NaN   \n",
      "\n",
      "                              Spotify URI  \n",
      "0    spotify:track:1gihuPhrLraKYrJMAEONyc  \n",
      "1    spotify:track:1RMRkCn07y2xtBip9DzwmC  \n",
      "2    spotify:track:6ebkx7Q5tTxrCxKq4GYj0Y  \n",
      "3    spotify:track:5u8Y0lAUlBLwuhpXSDUGf4  \n",
      "4    spotify:track:0pqnGHJpmpxLKifKRmU6WP  \n",
      "..                                    ...  \n",
      "993                                   NaN  \n",
      "994                                   NaN  \n",
      "995                                   NaN  \n",
      "996                                   NaN  \n",
      "997                                   NaN  \n",
      "\n",
      "[998 rows x 10 columns]\n"
     ]
    }
   ],
   "source": [
    "#read the lyrics.csv\n",
    "# the lyrics and scores are empty for new songs, they have to be filled first\n",
    "df = pd.read_csv('Lyrics.csv',delimiter=\";\",encoding='latin1')\n",
    "print(df)"
   ]
  },
  {
   "cell_type": "code",
   "execution_count": 8,
   "id": "c3ef4560",
   "metadata": {
    "scrolled": true
   },
   "outputs": [
    {
     "ename": "ModuleNotFoundError",
     "evalue": "No module named 'lyricsgenius'",
     "output_type": "error",
     "traceback": [
      "\u001b[1;31m---------------------------------------------------------------------------\u001b[0m",
      "\u001b[1;31mModuleNotFoundError\u001b[0m                       Traceback (most recent call last)",
      "\u001b[1;32m~\\AppData\\Local\\Temp/ipykernel_15756/149208328.py\u001b[0m in \u001b[0;36m<module>\u001b[1;34m\u001b[0m\n\u001b[0;32m      3\u001b[0m \u001b[1;31m# Therefore put i on the first line with empty lyrics\u001b[0m\u001b[1;33m\u001b[0m\u001b[1;33m\u001b[0m\u001b[1;33m\u001b[0m\u001b[0m\n\u001b[0;32m      4\u001b[0m \u001b[0mi\u001b[0m \u001b[1;33m=\u001b[0m \u001b[1;36m0\u001b[0m\u001b[1;33m\u001b[0m\u001b[1;33m\u001b[0m\u001b[0m\n\u001b[1;32m----> 5\u001b[1;33m \u001b[1;32mfrom\u001b[0m \u001b[0mlyricsgenius\u001b[0m \u001b[1;32mimport\u001b[0m \u001b[0mGenius\u001b[0m\u001b[1;33m\u001b[0m\u001b[1;33m\u001b[0m\u001b[0m\n\u001b[0m\u001b[0;32m      6\u001b[0m \u001b[0mtoken\u001b[0m \u001b[1;33m=\u001b[0m \u001b[1;34m'Wbdl4zQaphgb0HpfLCqJuhJWNU2B2m7NDXTh3oN9TE5bmM77K1fS68czEbS_wSHy'\u001b[0m\u001b[1;33m\u001b[0m\u001b[1;33m\u001b[0m\u001b[0m\n\u001b[0;32m      7\u001b[0m \u001b[0mgenius\u001b[0m \u001b[1;33m=\u001b[0m \u001b[0mGenius\u001b[0m\u001b[1;33m(\u001b[0m\u001b[0mtoken\u001b[0m\u001b[1;33m)\u001b[0m\u001b[1;33m\u001b[0m\u001b[1;33m\u001b[0m\u001b[0m\n",
      "\u001b[1;31mModuleNotFoundError\u001b[0m: No module named 'lyricsgenius'"
     ]
    }
   ],
   "source": [
    "# API Call for lyrics. \n",
    "# Don't always run it for all songs, as the API only allows 100 calls per day. \n",
    "# Therefore put i on the first line with empty lyrics\n",
    "i = 0\n",
    "from lyricsgenius import Genius\n",
    "token = 'Wbdl4zQaphgb0HpfLCqJuhJWNU2B2m7NDXTh3oN9TE5bmM77K1fS68czEbS_wSHy'\n",
    "genius = Genius(token)\n",
    "songs =[]\n",
    "for artist in df.loc[:,\"Artist\"]:\n",
    "    if i>103: #put here the first empty line\n",
    "        print('Start')\n",
    "        while True:\n",
    "            try:\n",
    "                song = genius.search_song(df.loc[i]['Song Title'],artist)\n",
    "                break\n",
    "            except:\n",
    "                pass\n",
    "        try:\n",
    "            df.at[i,'Lyrics'] = song.lyrics\n",
    "        except:\n",
    "            df = ddf.drop(i)\n",
    "    i+= 1\n",
    "#print(artists[1].lyrics)   "
   ]
  },
  {
   "cell_type": "code",
   "execution_count": null,
   "id": "1d292290",
   "metadata": {},
   "outputs": [],
   "source": [
    "# Here the new lyrics are written to the file more_lyric.csv. \n",
    "# Either change this to write to lyrics.csv or copy-paste. \n",
    "# This was only the test phase so far.\n",
    "df.to_csv('more_lyrics.csv',sep=';',encoding='utf-8-sig')"
   ]
  },
  {
   "cell_type": "code",
   "execution_count": 8,
   "id": "bdceb00f",
   "metadata": {},
   "outputs": [
    {
     "name": "stdout",
     "output_type": "stream",
     "text": [
      "It Was A Very Good Year\n"
     ]
    }
   ],
   "source": [
    "#lookup line for finding errors\n",
    "print(df.iloc[103]['Song Title'])"
   ]
  },
  {
   "cell_type": "code",
   "execution_count": 12,
   "id": "69c347e5",
   "metadata": {},
   "outputs": [],
   "source": [
    "#scores for our categories\n",
    "#TODO\n",
    "push_myself ={'push','strive','grind','plod','labor','moil','strain','tug','speed','rocket','opportunities','opportunity','hard','shouting','stopping','force','pain','believer','limit','sky','shit','fuck','unstoppable','pump','adrenaline'}\n",
    "have_fun = {'fun','happy','fancy','savor','enjoy','good','great','awesome','amazing','nice','sweet','fantastic','sunshine','dancing','alive','dance','party','dj','music','sex','whoop','tickle','clowns'}\n",
    "stress_relief = {'stress', 'relief','stressless','stressfree','reduction','alright','kind','sleep','breathe','breathing','time','love','kiss','sun','stars','moon','sky'}\n",
    "relax_focus={'relax','focus','focused','focusing','focussed','focussing','relaxation','recreation','relaxing','relaxed','recreational','unwind','unwinding','de-stressing','soothe','soothing','eased','ease','dream','fairy','paradise','beautiful','mind','butterflies','concentrate','concentration','chill','chilling','chillin','chilled'}\n",
    "get_motivated ={'motivation','motivating','motivated','motivate','motifing','animate','animating','animated','encouraging','encourage','encouraged','exciting','inspiring','inspire','inspired','inspirational','stirring','exhilarating','uplifting','winning','win','winner','easy','survive','tiger','work','countdown'}"
   ]
  },
  {
   "cell_type": "code",
   "execution_count": 13,
   "id": "5378e7ec",
   "metadata": {},
   "outputs": [],
   "source": [
    "#counters for statistics\n",
    "push_myself_counter= 0\n",
    "have_fun_counter = 0\n",
    "stress_relief_counter = 0\n",
    "relax_focus_counter = 0\n",
    "get_motivated_counter = 0"
   ]
  },
  {
   "cell_type": "code",
   "execution_count": 4,
   "id": "e32d82e3",
   "metadata": {},
   "outputs": [],
   "source": [
    "\n",
    "def summerise(input, i):\n",
    "    scores = [0,0,0,0,0] #push myself, have fun, stress relief, relax/focus, motivation\n",
    "    \n",
    "    # (1) Convert paragraphs to sentences\n",
    "    sentence_detector = nltk.data.load('tokenizers/punkt/english.pickle')\n",
    "    sentences = sentence_detector.tokenize(input)\n",
    "    #sentences = nltk.sent_tokenize(input)\n",
    "    \n",
    "    # (2) Tokenisation: split sentences to words\n",
    "    tokenizer = RegexpTokenizer('\\w+')\n",
    "    \n",
    "    # (3) Preprocessing: lowercase words and remove stopwords\n",
    "    base_words = [word.lower() for word in tokenizer.tokenize(input)]\n",
    "    words_fist_step = [word for word in base_words if word not in stopwords.words()]\n",
    "    \n",
    "    #TODO\n",
    "    #processing because of problems with API lyrics. Have a look at them, the problem are the words in [], they distort the statistics\n",
    "    #This will filter out some common ones, but it is best to use a filter that excludes all words surrounded by square brackets.\n",
    "    words = [word for word in words_fist_step if word not in ['chorus','lyrics','lyric','guitar solo','solo','verse','verse 1','verse 2','verse 3','verse 4','verse 5','outro','intro','refrain','instrumental','instrumental post-chorus','interlude','bridge','pre chorus','pre-chorus','post-chorus','post chorus','ad lib','ad-lib']]\n",
    "\n",
    "    # (4) Find Weighted Frequency of Occurence      \n",
    "    word_frequencies = FreqDist(words)\n",
    "        \n",
    "    maximum_frequency = max(word_frequencies.values())\n",
    "\n",
    "    for word in word_frequencies.keys():\n",
    "        word_frequencies[word] = (word_frequencies[word]/maximum_frequency)\n",
    "    #print('---------------------------------------------')\n",
    "    print(word_frequencies.most_common())\n",
    "    #print('---------------------------------------------')\n",
    "    print(word_frequencies.values())\n",
    "    for word in word_frequencies.keys():\n",
    "        if(word in push_myself):\n",
    "            scores[0]+= frequencies(word).values()\n",
    "        if(word in have_fun):\n",
    "            scores[1]+= 1    \n",
    "        if(word in stress_relief):\n",
    "            scores[2]+= 1    \n",
    "        if(word in relax_focus):\n",
    "            scores[3]+= 1   \n",
    "        if(word in get_motivated):\n",
    "            scores[4]+= 1   \n",
    "   # print(summary)\n",
    "    if scores[0]>0:\n",
    "        global push_myself_counter\n",
    "        push_myself_counter+= 1\n",
    "    if scores[1]>0:\n",
    "        global have_fun_counter\n",
    "        have_fun_counter+= 1\n",
    "    if scores[2]>0:\n",
    "        global stress_relief_counter\n",
    "        stress_relief_counter+= 1\n",
    "    if scores[3]>0:\n",
    "        global relax_focus_counter\n",
    "        relax_focus_counter+= 1\n",
    "    if scores[4]>0:\n",
    "        global get_motivated_counter\n",
    "        get_motivated_counter+= 1\n",
    "    print('Push myself score:'+ str(scores[0]))\n",
    "    print('Have fun score:'+ str(scores[1]))\n",
    "    print('Stress relief score:'+ str(scores[2]))\n",
    "    print('Relax / focus score:'+ str(scores[3]))\n",
    "    print('Get motivated score:'+ str(scores[4]))\n",
    "    df.at[i,'Push myself score'] = scores[0]\n",
    "    df.at[i,'Have fun score'] = scores[1]\n",
    "    df.at[i,'Stress relief score'] = scores[2]\n",
    "    df.at[i,'Relax / focus score'] = scores[3]\n",
    "    df.at[i,'Get motivated score'] = scores[4]\n",
    "    return scores\n"
   ]
  },
  {
   "cell_type": "code",
   "execution_count": 5,
   "id": "8b38a5a9",
   "metadata": {
    "scrolled": true
   },
   "outputs": [
    {
     "name": "stdout",
     "output_type": "stream",
     "text": [
      "******** Feel So Close ********\n"
     ]
    },
    {
     "ename": "TypeError",
     "evalue": "expected string or bytes-like object",
     "output_type": "error",
     "traceback": [
      "\u001b[1;31m---------------------------------------------------------------------------\u001b[0m",
      "\u001b[1;31mTypeError\u001b[0m                                 Traceback (most recent call last)",
      "\u001b[1;32m~\\AppData\\Local\\Temp/ipykernel_15756/1062983316.py\u001b[0m in \u001b[0;36m<module>\u001b[1;34m\u001b[0m\n\u001b[0;32m      4\u001b[0m     \u001b[0mprint\u001b[0m \u001b[1;33m(\u001b[0m\u001b[1;34m'******** '\u001b[0m\u001b[1;33m+\u001b[0m\u001b[0mdf\u001b[0m\u001b[1;33m.\u001b[0m\u001b[0mloc\u001b[0m\u001b[1;33m[\u001b[0m\u001b[0mi\u001b[0m\u001b[1;33m]\u001b[0m\u001b[1;33m[\u001b[0m\u001b[1;34m'Song Title'\u001b[0m\u001b[1;33m]\u001b[0m\u001b[1;33m+\u001b[0m\u001b[1;34m' ********'\u001b[0m\u001b[1;33m)\u001b[0m\u001b[1;33m\u001b[0m\u001b[1;33m\u001b[0m\u001b[0m\n\u001b[0;32m      5\u001b[0m     \u001b[1;32mif\u001b[0m \u001b[0mmath\u001b[0m\u001b[1;33m.\u001b[0m\u001b[0misnan\u001b[0m\u001b[1;33m(\u001b[0m\u001b[0mdf\u001b[0m\u001b[1;33m.\u001b[0m\u001b[0mloc\u001b[0m\u001b[1;33m[\u001b[0m\u001b[0mi\u001b[0m\u001b[1;33m]\u001b[0m\u001b[1;33m[\u001b[0m\u001b[1;34m'Get motivated score'\u001b[0m\u001b[1;33m]\u001b[0m\u001b[1;33m)\u001b[0m\u001b[1;33m:\u001b[0m\u001b[1;33m\u001b[0m\u001b[1;33m\u001b[0m\u001b[0m\n\u001b[1;32m----> 6\u001b[1;33m         \u001b[0msummerise\u001b[0m\u001b[1;33m(\u001b[0m\u001b[0msong\u001b[0m\u001b[1;33m,\u001b[0m \u001b[0mi\u001b[0m\u001b[1;33m)\u001b[0m\u001b[1;33m\u001b[0m\u001b[1;33m\u001b[0m\u001b[0m\n\u001b[0m\u001b[0;32m      7\u001b[0m     \u001b[0mi\u001b[0m\u001b[1;33m+=\u001b[0m \u001b[1;36m1\u001b[0m\u001b[1;33m\u001b[0m\u001b[1;33m\u001b[0m\u001b[0m\n\u001b[0;32m      8\u001b[0m     \u001b[1;31m#print('*******************************************************')\u001b[0m\u001b[1;33m\u001b[0m\u001b[1;33m\u001b[0m\u001b[1;33m\u001b[0m\u001b[0m\n",
      "\u001b[1;32m~\\AppData\\Local\\Temp/ipykernel_15756/1254016853.py\u001b[0m in \u001b[0;36msummerise\u001b[1;34m(input, i)\u001b[0m\n\u001b[0;32m      4\u001b[0m     \u001b[1;31m# (1) Convert paragraphs to sentences\u001b[0m\u001b[1;33m\u001b[0m\u001b[1;33m\u001b[0m\u001b[1;33m\u001b[0m\u001b[0m\n\u001b[0;32m      5\u001b[0m     \u001b[0msentence_detector\u001b[0m \u001b[1;33m=\u001b[0m \u001b[0mnltk\u001b[0m\u001b[1;33m.\u001b[0m\u001b[0mdata\u001b[0m\u001b[1;33m.\u001b[0m\u001b[0mload\u001b[0m\u001b[1;33m(\u001b[0m\u001b[1;34m'tokenizers/punkt/english.pickle'\u001b[0m\u001b[1;33m)\u001b[0m\u001b[1;33m\u001b[0m\u001b[1;33m\u001b[0m\u001b[0m\n\u001b[1;32m----> 6\u001b[1;33m     \u001b[0msentences\u001b[0m \u001b[1;33m=\u001b[0m \u001b[0msentence_detector\u001b[0m\u001b[1;33m.\u001b[0m\u001b[0mtokenize\u001b[0m\u001b[1;33m(\u001b[0m\u001b[0minput\u001b[0m\u001b[1;33m)\u001b[0m\u001b[1;33m\u001b[0m\u001b[1;33m\u001b[0m\u001b[0m\n\u001b[0m\u001b[0;32m      7\u001b[0m     \u001b[1;31m#sentences = nltk.sent_tokenize(input)\u001b[0m\u001b[1;33m\u001b[0m\u001b[1;33m\u001b[0m\u001b[1;33m\u001b[0m\u001b[0m\n\u001b[0;32m      8\u001b[0m \u001b[1;33m\u001b[0m\u001b[0m\n",
      "\u001b[1;32mc:\\users\\ines2\\appdata\\local\\programs\\python\\python39\\lib\\site-packages\\nltk\\tokenize\\punkt.py\u001b[0m in \u001b[0;36mtokenize\u001b[1;34m(self, text, realign_boundaries)\u001b[0m\n\u001b[0;32m   1274\u001b[0m         \u001b[0mGiven\u001b[0m \u001b[0ma\u001b[0m \u001b[0mtext\u001b[0m\u001b[1;33m,\u001b[0m \u001b[0mreturns\u001b[0m \u001b[0ma\u001b[0m \u001b[0mlist\u001b[0m \u001b[0mof\u001b[0m \u001b[0mthe\u001b[0m \u001b[0msentences\u001b[0m \u001b[1;32min\u001b[0m \u001b[0mthat\u001b[0m \u001b[0mtext\u001b[0m\u001b[1;33m.\u001b[0m\u001b[1;33m\u001b[0m\u001b[1;33m\u001b[0m\u001b[0m\n\u001b[0;32m   1275\u001b[0m         \"\"\"\n\u001b[1;32m-> 1276\u001b[1;33m         \u001b[1;32mreturn\u001b[0m \u001b[0mlist\u001b[0m\u001b[1;33m(\u001b[0m\u001b[0mself\u001b[0m\u001b[1;33m.\u001b[0m\u001b[0msentences_from_text\u001b[0m\u001b[1;33m(\u001b[0m\u001b[0mtext\u001b[0m\u001b[1;33m,\u001b[0m \u001b[0mrealign_boundaries\u001b[0m\u001b[1;33m)\u001b[0m\u001b[1;33m)\u001b[0m\u001b[1;33m\u001b[0m\u001b[1;33m\u001b[0m\u001b[0m\n\u001b[0m\u001b[0;32m   1277\u001b[0m \u001b[1;33m\u001b[0m\u001b[0m\n\u001b[0;32m   1278\u001b[0m     \u001b[1;32mdef\u001b[0m \u001b[0mdebug_decisions\u001b[0m\u001b[1;33m(\u001b[0m\u001b[0mself\u001b[0m\u001b[1;33m,\u001b[0m \u001b[0mtext\u001b[0m\u001b[1;33m)\u001b[0m\u001b[1;33m:\u001b[0m\u001b[1;33m\u001b[0m\u001b[1;33m\u001b[0m\u001b[0m\n",
      "\u001b[1;32mc:\\users\\ines2\\appdata\\local\\programs\\python\\python39\\lib\\site-packages\\nltk\\tokenize\\punkt.py\u001b[0m in \u001b[0;36msentences_from_text\u001b[1;34m(self, text, realign_boundaries)\u001b[0m\n\u001b[0;32m   1330\u001b[0m         \u001b[0mfollows\u001b[0m \u001b[0mthe\u001b[0m \u001b[0mperiod\u001b[0m\u001b[1;33m.\u001b[0m\u001b[1;33m\u001b[0m\u001b[1;33m\u001b[0m\u001b[0m\n\u001b[0;32m   1331\u001b[0m         \"\"\"\n\u001b[1;32m-> 1332\u001b[1;33m         \u001b[1;32mreturn\u001b[0m \u001b[1;33m[\u001b[0m\u001b[0mtext\u001b[0m\u001b[1;33m[\u001b[0m\u001b[0ms\u001b[0m\u001b[1;33m:\u001b[0m\u001b[0me\u001b[0m\u001b[1;33m]\u001b[0m \u001b[1;32mfor\u001b[0m \u001b[0ms\u001b[0m\u001b[1;33m,\u001b[0m \u001b[0me\u001b[0m \u001b[1;32min\u001b[0m \u001b[0mself\u001b[0m\u001b[1;33m.\u001b[0m\u001b[0mspan_tokenize\u001b[0m\u001b[1;33m(\u001b[0m\u001b[0mtext\u001b[0m\u001b[1;33m,\u001b[0m \u001b[0mrealign_boundaries\u001b[0m\u001b[1;33m)\u001b[0m\u001b[1;33m]\u001b[0m\u001b[1;33m\u001b[0m\u001b[1;33m\u001b[0m\u001b[0m\n\u001b[0m\u001b[0;32m   1333\u001b[0m \u001b[1;33m\u001b[0m\u001b[0m\n\u001b[0;32m   1334\u001b[0m     \u001b[1;32mdef\u001b[0m \u001b[0m_match_potential_end_contexts\u001b[0m\u001b[1;33m(\u001b[0m\u001b[0mself\u001b[0m\u001b[1;33m,\u001b[0m \u001b[0mtext\u001b[0m\u001b[1;33m)\u001b[0m\u001b[1;33m:\u001b[0m\u001b[1;33m\u001b[0m\u001b[1;33m\u001b[0m\u001b[0m\n",
      "\u001b[1;32mc:\\users\\ines2\\appdata\\local\\programs\\python\\python39\\lib\\site-packages\\nltk\\tokenize\\punkt.py\u001b[0m in \u001b[0;36m<listcomp>\u001b[1;34m(.0)\u001b[0m\n\u001b[0;32m   1330\u001b[0m         \u001b[0mfollows\u001b[0m \u001b[0mthe\u001b[0m \u001b[0mperiod\u001b[0m\u001b[1;33m.\u001b[0m\u001b[1;33m\u001b[0m\u001b[1;33m\u001b[0m\u001b[0m\n\u001b[0;32m   1331\u001b[0m         \"\"\"\n\u001b[1;32m-> 1332\u001b[1;33m         \u001b[1;32mreturn\u001b[0m \u001b[1;33m[\u001b[0m\u001b[0mtext\u001b[0m\u001b[1;33m[\u001b[0m\u001b[0ms\u001b[0m\u001b[1;33m:\u001b[0m\u001b[0me\u001b[0m\u001b[1;33m]\u001b[0m \u001b[1;32mfor\u001b[0m \u001b[0ms\u001b[0m\u001b[1;33m,\u001b[0m \u001b[0me\u001b[0m \u001b[1;32min\u001b[0m \u001b[0mself\u001b[0m\u001b[1;33m.\u001b[0m\u001b[0mspan_tokenize\u001b[0m\u001b[1;33m(\u001b[0m\u001b[0mtext\u001b[0m\u001b[1;33m,\u001b[0m \u001b[0mrealign_boundaries\u001b[0m\u001b[1;33m)\u001b[0m\u001b[1;33m]\u001b[0m\u001b[1;33m\u001b[0m\u001b[1;33m\u001b[0m\u001b[0m\n\u001b[0m\u001b[0;32m   1333\u001b[0m \u001b[1;33m\u001b[0m\u001b[0m\n\u001b[0;32m   1334\u001b[0m     \u001b[1;32mdef\u001b[0m \u001b[0m_match_potential_end_contexts\u001b[0m\u001b[1;33m(\u001b[0m\u001b[0mself\u001b[0m\u001b[1;33m,\u001b[0m \u001b[0mtext\u001b[0m\u001b[1;33m)\u001b[0m\u001b[1;33m:\u001b[0m\u001b[1;33m\u001b[0m\u001b[1;33m\u001b[0m\u001b[0m\n",
      "\u001b[1;32mc:\\users\\ines2\\appdata\\local\\programs\\python\\python39\\lib\\site-packages\\nltk\\tokenize\\punkt.py\u001b[0m in \u001b[0;36mspan_tokenize\u001b[1;34m(self, text, realign_boundaries)\u001b[0m\n\u001b[0;32m   1320\u001b[0m         \u001b[1;32mif\u001b[0m \u001b[0mrealign_boundaries\u001b[0m\u001b[1;33m:\u001b[0m\u001b[1;33m\u001b[0m\u001b[1;33m\u001b[0m\u001b[0m\n\u001b[0;32m   1321\u001b[0m             \u001b[0mslices\u001b[0m \u001b[1;33m=\u001b[0m \u001b[0mself\u001b[0m\u001b[1;33m.\u001b[0m\u001b[0m_realign_boundaries\u001b[0m\u001b[1;33m(\u001b[0m\u001b[0mtext\u001b[0m\u001b[1;33m,\u001b[0m \u001b[0mslices\u001b[0m\u001b[1;33m)\u001b[0m\u001b[1;33m\u001b[0m\u001b[1;33m\u001b[0m\u001b[0m\n\u001b[1;32m-> 1322\u001b[1;33m         \u001b[1;32mfor\u001b[0m \u001b[0msentence\u001b[0m \u001b[1;32min\u001b[0m \u001b[0mslices\u001b[0m\u001b[1;33m:\u001b[0m\u001b[1;33m\u001b[0m\u001b[1;33m\u001b[0m\u001b[0m\n\u001b[0m\u001b[0;32m   1323\u001b[0m             \u001b[1;32myield\u001b[0m \u001b[1;33m(\u001b[0m\u001b[0msentence\u001b[0m\u001b[1;33m.\u001b[0m\u001b[0mstart\u001b[0m\u001b[1;33m,\u001b[0m \u001b[0msentence\u001b[0m\u001b[1;33m.\u001b[0m\u001b[0mstop\u001b[0m\u001b[1;33m)\u001b[0m\u001b[1;33m\u001b[0m\u001b[1;33m\u001b[0m\u001b[0m\n\u001b[0;32m   1324\u001b[0m \u001b[1;33m\u001b[0m\u001b[0m\n",
      "\u001b[1;32mc:\\users\\ines2\\appdata\\local\\programs\\python\\python39\\lib\\site-packages\\nltk\\tokenize\\punkt.py\u001b[0m in \u001b[0;36m_realign_boundaries\u001b[1;34m(self, text, slices)\u001b[0m\n\u001b[0;32m   1419\u001b[0m         \"\"\"\n\u001b[0;32m   1420\u001b[0m         \u001b[0mrealign\u001b[0m \u001b[1;33m=\u001b[0m \u001b[1;36m0\u001b[0m\u001b[1;33m\u001b[0m\u001b[1;33m\u001b[0m\u001b[0m\n\u001b[1;32m-> 1421\u001b[1;33m         \u001b[1;32mfor\u001b[0m \u001b[0msentence1\u001b[0m\u001b[1;33m,\u001b[0m \u001b[0msentence2\u001b[0m \u001b[1;32min\u001b[0m \u001b[0m_pair_iter\u001b[0m\u001b[1;33m(\u001b[0m\u001b[0mslices\u001b[0m\u001b[1;33m)\u001b[0m\u001b[1;33m:\u001b[0m\u001b[1;33m\u001b[0m\u001b[1;33m\u001b[0m\u001b[0m\n\u001b[0m\u001b[0;32m   1422\u001b[0m             \u001b[0msentence1\u001b[0m \u001b[1;33m=\u001b[0m \u001b[0mslice\u001b[0m\u001b[1;33m(\u001b[0m\u001b[0msentence1\u001b[0m\u001b[1;33m.\u001b[0m\u001b[0mstart\u001b[0m \u001b[1;33m+\u001b[0m \u001b[0mrealign\u001b[0m\u001b[1;33m,\u001b[0m \u001b[0msentence1\u001b[0m\u001b[1;33m.\u001b[0m\u001b[0mstop\u001b[0m\u001b[1;33m)\u001b[0m\u001b[1;33m\u001b[0m\u001b[1;33m\u001b[0m\u001b[0m\n\u001b[0;32m   1423\u001b[0m             \u001b[1;32mif\u001b[0m \u001b[1;32mnot\u001b[0m \u001b[0msentence2\u001b[0m\u001b[1;33m:\u001b[0m\u001b[1;33m\u001b[0m\u001b[1;33m\u001b[0m\u001b[0m\n",
      "\u001b[1;32mc:\\users\\ines2\\appdata\\local\\programs\\python\\python39\\lib\\site-packages\\nltk\\tokenize\\punkt.py\u001b[0m in \u001b[0;36m_pair_iter\u001b[1;34m(iterator)\u001b[0m\n\u001b[0;32m    316\u001b[0m     \u001b[0miterator\u001b[0m \u001b[1;33m=\u001b[0m \u001b[0miter\u001b[0m\u001b[1;33m(\u001b[0m\u001b[0miterator\u001b[0m\u001b[1;33m)\u001b[0m\u001b[1;33m\u001b[0m\u001b[1;33m\u001b[0m\u001b[0m\n\u001b[0;32m    317\u001b[0m     \u001b[1;32mtry\u001b[0m\u001b[1;33m:\u001b[0m\u001b[1;33m\u001b[0m\u001b[1;33m\u001b[0m\u001b[0m\n\u001b[1;32m--> 318\u001b[1;33m         \u001b[0mprev\u001b[0m \u001b[1;33m=\u001b[0m \u001b[0mnext\u001b[0m\u001b[1;33m(\u001b[0m\u001b[0miterator\u001b[0m\u001b[1;33m)\u001b[0m\u001b[1;33m\u001b[0m\u001b[1;33m\u001b[0m\u001b[0m\n\u001b[0m\u001b[0;32m    319\u001b[0m     \u001b[1;32mexcept\u001b[0m \u001b[0mStopIteration\u001b[0m\u001b[1;33m:\u001b[0m\u001b[1;33m\u001b[0m\u001b[1;33m\u001b[0m\u001b[0m\n\u001b[0;32m    320\u001b[0m         \u001b[1;32mreturn\u001b[0m\u001b[1;33m\u001b[0m\u001b[1;33m\u001b[0m\u001b[0m\n",
      "\u001b[1;32mc:\\users\\ines2\\appdata\\local\\programs\\python\\python39\\lib\\site-packages\\nltk\\tokenize\\punkt.py\u001b[0m in \u001b[0;36m_slices_from_text\u001b[1;34m(self, text)\u001b[0m\n\u001b[0;32m   1393\u001b[0m     \u001b[1;32mdef\u001b[0m \u001b[0m_slices_from_text\u001b[0m\u001b[1;33m(\u001b[0m\u001b[0mself\u001b[0m\u001b[1;33m,\u001b[0m \u001b[0mtext\u001b[0m\u001b[1;33m)\u001b[0m\u001b[1;33m:\u001b[0m\u001b[1;33m\u001b[0m\u001b[1;33m\u001b[0m\u001b[0m\n\u001b[0;32m   1394\u001b[0m         \u001b[0mlast_break\u001b[0m \u001b[1;33m=\u001b[0m \u001b[1;36m0\u001b[0m\u001b[1;33m\u001b[0m\u001b[1;33m\u001b[0m\u001b[0m\n\u001b[1;32m-> 1395\u001b[1;33m         \u001b[1;32mfor\u001b[0m \u001b[0mmatch\u001b[0m\u001b[1;33m,\u001b[0m \u001b[0mcontext\u001b[0m \u001b[1;32min\u001b[0m \u001b[0mself\u001b[0m\u001b[1;33m.\u001b[0m\u001b[0m_match_potential_end_contexts\u001b[0m\u001b[1;33m(\u001b[0m\u001b[0mtext\u001b[0m\u001b[1;33m)\u001b[0m\u001b[1;33m:\u001b[0m\u001b[1;33m\u001b[0m\u001b[1;33m\u001b[0m\u001b[0m\n\u001b[0m\u001b[0;32m   1396\u001b[0m             \u001b[1;32mif\u001b[0m \u001b[0mself\u001b[0m\u001b[1;33m.\u001b[0m\u001b[0mtext_contains_sentbreak\u001b[0m\u001b[1;33m(\u001b[0m\u001b[0mcontext\u001b[0m\u001b[1;33m)\u001b[0m\u001b[1;33m:\u001b[0m\u001b[1;33m\u001b[0m\u001b[1;33m\u001b[0m\u001b[0m\n\u001b[0;32m   1397\u001b[0m                 \u001b[1;32myield\u001b[0m \u001b[0mslice\u001b[0m\u001b[1;33m(\u001b[0m\u001b[0mlast_break\u001b[0m\u001b[1;33m,\u001b[0m \u001b[0mmatch\u001b[0m\u001b[1;33m.\u001b[0m\u001b[0mend\u001b[0m\u001b[1;33m(\u001b[0m\u001b[1;33m)\u001b[0m\u001b[1;33m)\u001b[0m\u001b[1;33m\u001b[0m\u001b[1;33m\u001b[0m\u001b[0m\n",
      "\u001b[1;32mc:\\users\\ines2\\appdata\\local\\programs\\python\\python39\\lib\\site-packages\\nltk\\tokenize\\punkt.py\u001b[0m in \u001b[0;36m_match_potential_end_contexts\u001b[1;34m(self, text)\u001b[0m\n\u001b[0;32m   1373\u001b[0m         \u001b[0mbefore_words\u001b[0m \u001b[1;33m=\u001b[0m \u001b[1;33m{\u001b[0m\u001b[1;33m}\u001b[0m\u001b[1;33m\u001b[0m\u001b[1;33m\u001b[0m\u001b[0m\n\u001b[0;32m   1374\u001b[0m         \u001b[0mmatches\u001b[0m \u001b[1;33m=\u001b[0m \u001b[1;33m[\u001b[0m\u001b[1;33m]\u001b[0m\u001b[1;33m\u001b[0m\u001b[1;33m\u001b[0m\u001b[0m\n\u001b[1;32m-> 1375\u001b[1;33m         \u001b[1;32mfor\u001b[0m \u001b[0mmatch\u001b[0m \u001b[1;32min\u001b[0m \u001b[0mreversed\u001b[0m\u001b[1;33m(\u001b[0m\u001b[0mlist\u001b[0m\u001b[1;33m(\u001b[0m\u001b[0mself\u001b[0m\u001b[1;33m.\u001b[0m\u001b[0m_lang_vars\u001b[0m\u001b[1;33m.\u001b[0m\u001b[0mperiod_context_re\u001b[0m\u001b[1;33m(\u001b[0m\u001b[1;33m)\u001b[0m\u001b[1;33m.\u001b[0m\u001b[0mfinditer\u001b[0m\u001b[1;33m(\u001b[0m\u001b[0mtext\u001b[0m\u001b[1;33m)\u001b[0m\u001b[1;33m)\u001b[0m\u001b[1;33m)\u001b[0m\u001b[1;33m:\u001b[0m\u001b[1;33m\u001b[0m\u001b[1;33m\u001b[0m\u001b[0m\n\u001b[0m\u001b[0;32m   1376\u001b[0m             \u001b[1;31m# Ignore matches that have already been captured by matches to the right of this match\u001b[0m\u001b[1;33m\u001b[0m\u001b[1;33m\u001b[0m\u001b[1;33m\u001b[0m\u001b[0m\n\u001b[0;32m   1377\u001b[0m             \u001b[1;32mif\u001b[0m \u001b[0mmatches\u001b[0m \u001b[1;32mand\u001b[0m \u001b[0mmatch\u001b[0m\u001b[1;33m.\u001b[0m\u001b[0mend\u001b[0m\u001b[1;33m(\u001b[0m\u001b[1;33m)\u001b[0m \u001b[1;33m>\u001b[0m \u001b[0mbefore_start\u001b[0m\u001b[1;33m:\u001b[0m\u001b[1;33m\u001b[0m\u001b[1;33m\u001b[0m\u001b[0m\n",
      "\u001b[1;31mTypeError\u001b[0m: expected string or bytes-like object"
     ]
    }
   ],
   "source": [
    "#Here the processing happens, the scores re calculated, if the are empty so far\n",
    "i = 0\n",
    "for song in df.loc[:,\"Lyrics\"]:\n",
    "    print ('******** '+df.loc[i]['Song Title']+' ********')\n",
    "    if math.isnan(df.loc[i]['Get motivated score']):\n",
    "        summerise(song, i)\n",
    "    i+= 1\n",
    "    #print('*******************************************************')\n",
    "    print('\\n')"
   ]
  },
  {
   "cell_type": "code",
   "execution_count": 16,
   "id": "4ed49d22",
   "metadata": {},
   "outputs": [],
   "source": [
    "# Here the new scores are written to the file more_lyric.csv. \n",
    "# Either change this to write to lyrics.csv or copy-paste. \n",
    "# This was only the test phase so far.\n",
    "# (Same as with the lyrics before)\n",
    "df.to_csv('more_lyrics.csv',sep=';',encoding='utf-8-sig')"
   ]
  },
  {
   "cell_type": "code",
   "execution_count": null,
   "id": "8cfaecf2",
   "metadata": {},
   "outputs": [],
   "source": [
    "print('Push myself songs: '+str(push_myself_counter))\n",
    "print('Have fun songs: '+str(have_fun_counter))\n",
    "print('Stress relief songs: '+str(stress_relief_counter))\n",
    "print('Relax/Focus songs: '+ str(relax_focus_counter))\n",
    "print('Get motivated songs: '+str(get_motivated_counter))"
   ]
  },
  {
   "cell_type": "code",
   "execution_count": null,
   "id": "9fa5c25d",
   "metadata": {},
   "outputs": [],
   "source": [
    "#processing for diagram\n",
    "t_array = df[\"bpm\"].to_numpy() \n",
    "print(t_array)"
   ]
  },
  {
   "cell_type": "code",
   "execution_count": null,
   "id": "2262279f",
   "metadata": {
    "scrolled": false
   },
   "outputs": [],
   "source": [
    "import numpy as np\n",
    "import matplotlib.pyplot as plt\n",
    "\n",
    "n, bins, patches = plt.hist(t_array)\n",
    "plt.show()"
   ]
  },
  {
   "cell_type": "code",
   "execution_count": 20,
   "id": "062dcf5e",
   "metadata": {},
   "outputs": [
    {
     "name": "stdout",
     "output_type": "stream",
     "text": [
      "56\n"
     ]
    }
   ],
   "source": [
    "print(t_array.size)"
   ]
  },
  {
   "cell_type": "code",
   "execution_count": 5,
   "id": "9149eb4a",
   "metadata": {
    "scrolled": true
   },
   "outputs": [
    {
     "name": "stdout",
     "output_type": "stream",
     "text": [
      "Searching for songs by Andy Shauf...\n",
      "\n",
      "Song 1: \"Alexander All Alone\"\n",
      "\"All Of My Love\" is not valid. Skipping.\n",
      "Song 2: \"All the Same\"\n",
      "Song 3: \"Angela\"\n",
      "\n",
      "Reached user-specified song limit (3).\n",
      "Done. Found 3 songs.\n",
      "[Song(id, artist, ...), Song(id, artist, ...), Song(id, artist, ...)]\n",
      "Searching for \"To You\" by Andy Shauf...\n",
      "Done.\n",
      "Searching for \"To You\" by Andy Shauf...\n",
      "Done.\n",
      "To You LyricsJeremy, can we talk a minute?\n",
      "I've got some things that I need to\n",
      "Get off of my chest\n",
      "\n",
      "I know that we've had a few\n",
      "And it's far too late\n",
      "But if I wait, I might never tell you\n",
      "Can we find somewhere quiet?\n",
      "Let's go outside\n",
      "I've got some smokes if you've got a light\n",
      "It's just that sometimes when I'm by your side\n",
      "It feels so right\n",
      "It feels like nothing could go wrong\n",
      "Does it ever\n",
      "Feel like that to you?\n",
      "Does it ever\n",
      "Feel like that to you?\n",
      "Oh, I don't know what I mean\n",
      "It sounded wrong and I'm just tired\n",
      "Not being weird\n",
      "I just mean that you're a good friend\n",
      "It's hard to explain\n",
      "Just forget I said anything\n",
      "Get over yourself\n",
      "I'm not in love with you\n",
      "It just came out all wrong\n",
      "Yeah\n",
      "Tell the guys and laugh it up\n",
      "Why am I even surprised?\n",
      "That it never\n",
      "Feels like that to you\n",
      "That it never\n",
      "Feels like that to you\n",
      "I guess it never\n",
      "Feels like that to you\n",
      "I guess it never\n",
      "Feels like that to youYou might also likeEmbed\n"
     ]
    }
   ],
   "source": [
    "#Tutorial for Genius\n",
    "'''from lyricsgenius import Genius\n",
    "token = 'Wbdl4zQaphgb0HpfLCqJuhJWNU2B2m7NDXTh3oN9TE5bmM77K1fS68czEbS_wSHy'\n",
    "genius = Genius(token)\n",
    "artist = genius.search_artist(\"Andy Shauf\", max_songs=3, sort=\"title\")\n",
    "print(artist.songs)\n",
    "# Way 1\n",
    "song = genius.search_song(\"To You\", artist.name)\n",
    "\n",
    "# Way 2\n",
    "# this will search artist.songs first\n",
    "# and if not found, uses search_song\n",
    "song = artist.song(\"To You\")\n",
    "\n",
    "print(song.lyrics)'''\n"
   ]
  },
  {
   "cell_type": "code",
   "execution_count": 35,
   "id": "fe677a30",
   "metadata": {},
   "outputs": [
    {
     "name": "stdout",
     "output_type": "stream",
     "text": [
      "<Response [403]>\n"
     ]
    }
   ],
   "source": [
    "#Test for bpm API, does not work\n",
    "key= '0bf7106cdcb361896dd1cbf071ff715e'\n",
    "url_bpm = 'https://api.getsongbpm.comsong/?api_key='+key\n",
    "url_song = \"https://api.getsongbpm.com/song/?api_key=\"+key+\"&id=983pB\"\n",
    "response = requests.get(url_song)\n",
    "#json_data = json.loads(response.content)\n",
    "print(response)"
   ]
  }
 ],
 "metadata": {
  "kernelspec": {
   "display_name": "Python 3 (ipykernel)",
   "language": "python",
   "name": "python3"
  },
  "language_info": {
   "codemirror_mode": {
    "name": "ipython",
    "version": 3
   },
   "file_extension": ".py",
   "mimetype": "text/x-python",
   "name": "python",
   "nbconvert_exporter": "python",
   "pygments_lexer": "ipython3",
   "version": "3.9.5"
  }
 },
 "nbformat": 4,
 "nbformat_minor": 5
}
